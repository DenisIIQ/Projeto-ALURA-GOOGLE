{
  "nbformat": 4,
  "nbformat_minor": 0,
  "metadata": {
    "colab": {
      "provenance": [],
      "authorship_tag": "ABX9TyNlnCn0d5d6eI8mMXkD3aGy",
      "include_colab_link": true
    },
    "kernelspec": {
      "name": "python3",
      "display_name": "Python 3"
    },
    "language_info": {
      "name": "python"
    }
  },
  "cells": [
    {
      "cell_type": "markdown",
      "metadata": {
        "id": "view-in-github",
        "colab_type": "text"
      },
      "source": [
        "<a href=\"https://colab.research.google.com/github/DenisIIQ/Projeto-ALURA-GOOGLE/blob/main/BAI_v9.ipynb\" target=\"_parent\"><img src=\"https://colab.research.google.com/assets/colab-badge.svg\" alt=\"Open In Colab\"/></a>"
      ]
    },
    {
      "cell_type": "code",
      "execution_count": 2,
      "metadata": {
        "id": "xyemWvOVsngO"
      },
      "outputs": [],
      "source": [
        "!pip install colorama -q"
      ]
    },
    {
      "cell_type": "code",
      "source": [
        "!pip install tqdm -q"
      ],
      "metadata": {
        "id": "-3XdCgCKstds"
      },
      "execution_count": 3,
      "outputs": []
    },
    {
      "cell_type": "code",
      "source": [
        "from enum import Enum\n",
        "import os\n",
        "from colorama import Fore, Style\n",
        "from tqdm import tqdm\n",
        "\n",
        "class Genero(Enum):\n",
        "  MASCULINO = 'a'\n",
        "  FEMININO = 'b'\n",
        "  NAO_BINARIO = 'c'\n",
        "  OUTRO = 'd'\n",
        "  PREFIRO_NAO_DECLARAR = 'e'\n",
        "\n",
        "class NivelEducacional(Enum):\n",
        "  ENSINO_FUNDAMENTAL = 'a'\n",
        "  ENSINO_MEDIO = 'b'\n",
        "  ENSINO_SUPERIOR_INCOMPLETO = 'c'\n",
        "  ENSINO_SUPERIOR_COMPLETO = 'd'\n",
        "  POS_GRADUACAO = 'e'\n",
        "\n",
        "class NivelSocioeconomico(Enum):\n",
        "  ALTA_RENDA = 'a'\n",
        "  BOA_RENDA = 'b'\n",
        "  RENDA_MEDIA = 'c'\n",
        "  RENDA_BAIXA = 'd'\n",
        "  SEM_RENDA = 'e'\n",
        "\n",
        "# --- PLANILHA DE ENCAMINHAMENTOS ---\n",
        "planilha_encaminhamentos = {\n",
        "    (0, 21): {\n",
        "        \"Crianças\": [\n",
        "            \"Grupos de apoio em escolas e centros comunitários.\",\n",
        "            \"Atividades extracurriculares que promovam bem-estar e relaxamento.\",\n",
        "            \"Aplicativos de Meditação: Acesso gratuito a aplicativo com meditações guiadas e exercícios de respiração.\"\n",
        "        ],\n",
        "        \"Adolescentes\": [\n",
        "            \"Grupos de apoio para adolescentes em escolas e centros comunitários.\",\n",
        "            \"Programas de desenvolvimento de habilidades sociais e emocionais.\",\n",
        "            \"Aplicativos de Meditação: Acesso gratuito a aplicativo com meditações guiadas e exercícios de respiração.\"\n",
        "        ],\n",
        "        \"Adultos\": [\n",
        "            \"Grupos de apoio para adultos em centros comunitários.\",\n",
        "            \"Prática de atividades físicas e de lazer que promovam bem-estar.\",\n",
        "            \"Aplicativos de Meditação: Acesso gratuito a aplicativo com meditações guiadas e exercícios de respiração.\"\n",
        "        ],\n",
        "        \"Idosos\": [\n",
        "            \"Grupos de apoio para idosos em centros comunitários.\",\n",
        "            \"Atividades físicas e de lazer adaptadas para a terceira idade.\",\n",
        "            \"Programas de apoio psicológico para lidar com as questões do envelhecimento.\"\n",
        "        ]\n",
        "    },\n",
        "    (22, 35): {\n",
        "        \"Crianças\": [\n",
        "            \"Ludoterapia: Sessões individuais ou em grupo com psicólogos especializados em atendimento infantil (Gratuito).\",\n",
        "            \"Arteterapia: Oficinas de expressão artística em grupo, com custo social para NSE D e E.\"\n",
        "        ],\n",
        "        \"Adolescentes\": [\n",
        "            \"Grupos de apoio para adolescentes: Encontros semanais gratuitos com foco em questões típicas da adolescência, como ansiedade social e pressão escolar.\",\n",
        "            \"Terapia Cognitivo-Comportamental (TCC) individual: Disponível em Unidades Básicas de Saúde (UBS) e Centros de Atenção Psicossocial (CAPS) - Gratuito.\"\n",
        "        ],\n",
        "        \"Adultos\": [\n",
        "            \"TCC em grupo: Oferecido em UBS e CAPS - Gratuito.\",\n",
        "            \"Psicoterapia individual (diversas abordagens): Disponível em UBS e CAPS (Gratuito), com opção de custo social em clínicas particulares para NSE D e E.\"\n",
        "        ],\n",
        "        \"Idosos\": [\n",
        "            \"Grupos de apoio para idosos: Encontros semanais gratuitos com foco nas necessidades da terceira idade, como lidar com a solidão e o isolamento.\",\n",
        "            \"Terapia Cognitivo-Comportamental (TCC) individual: Disponível em UBS e CAPS (Gratuito), com foco em questões específicas do envelhecimento.\"\n",
        "        ]\n",
        "    },\n",
        "    (36, 63): {\n",
        "        \"Crianças\": [\n",
        "            \"Avaliação detalhada com psicólogo ou psiquiatra: Disponível em UBS e CAPS (Gratuito).\",\n",
        "            \"TCC individual: Gratuito em UBS e CAPS, com opção de custo social em clínicas particulares para NSE D e E.\",\n",
        "            \"Uso de medicação para ansiedade:  Prescrição e acompanhamento por psiquiatra em UBS e CAPS (Gratuito).\"\n",
        "        ],\n",
        "        \"Adolescentes\": [\n",
        "            \"Avaliação detalhada com psicólogo ou psiquiatra: Disponível em UBS e CAPS (Gratuito).\",\n",
        "            \"TCC individual: Gratuito em UBS e CAPS, com opção de custo social em clínicas particulares para NSE D e E.\",\n",
        "            \"Uso de medicação para ansiedade:  Prescrição e acompanhamento por psiquiatra em UBS e CAPS (Gratuito).\"\n",
        "        ],\n",
        "        \"Adultos\": [\n",
        "            \"Avaliação detalhada com psicólogo ou psiquiatra: Disponível em UBS e CAPS (Gratuito).\",\n",
        "            \"TCC individual: Gratuito em UBS e CAPS, com opção de custo social em clínicas particulares para NSE D e E.\",\n",
        "            \"Uso de medicação para ansiedade:  Prescrição e acompanhamento por psiquiatra em UBS e CAPS (Gratuito).\"\n",
        "        ],\n",
        "        \"Idosos\": [\n",
        "            \"Avaliação detalhada com psicólogo ou psiquiatra: Disponível em UBS e CAPS (Gratuito), com atenção especial às necessidades dos idosos.\",\n",
        "            \"TCC individual: Gratuito em UBS e CAPS, com opção de custo social em clínicas particulares para NSE D e E, com foco em questões do envelhecimento.\",\n",
        "            \"Uso de medicação para ansiedade:  Prescrição e acompanhamento por psiquiatra em UBS e CAPS (Gratuito), considerando as interações medicamentosas comuns em idosos.\"\n",
        "        ]\n",
        "    },\n",
        "    (64, 100): {\n",
        "        \"Crianças\": [\n",
        "            \"Avaliação e acompanhamento prioritário com psiquiatra: Disponível em CAPS (Gratuito).\",\n",
        "            \"TCC individual:  Gratuito em CAPS, com opção de custo social em clínicas particulares para NSE D e E.\",\n",
        "            \"Uso de medicação para ansiedade: Prescrição e acompanhamento por psiquiatra em CAPS (Gratuito).\",\n",
        "            \"Internação psiquiátrica:  Disponível em casos de crise aguda ou risco de suicídio (Gratuito).\"\n",
        "        ],\n",
        "        \"Adolescentes\": [\n",
        "            \"Avaliação e acompanhamento prioritário com psiquiatra: Disponível em CAPS (Gratuito).\",\n",
        "            \"TCC individual:  Gratuito em CAPS, com opção de custo social em clínicas particulares para NSE D e E.\",\n",
        "            \"Terapia em grupo: Oferecida em CAPS (Gratuito).\",\n",
        "            \"Uso de medicação para ansiedade: Prescrição e acompanhamento por psiquiatra em CAPS (Gratuito).\",\n",
        "            \"Internação psiquiátrica:  Disponível em casos de crise aguda ou risco de suicídio (Gratuito).\"\n",
        "        ],\n",
        "        \"Adultos\": [\n",
        "            \"Avaliação e acompanhamento prioritário com psiquiatra: Disponível em CAPS (Gratuito).\",\n",
        "            \"TCC individual:  Gratuito em CAPS, com opção de custo social em clínicas particulares para NSE D e E.\",\n",
        "            \"Terapia em grupo: Oferecida em CAPS (Gratuito).\",\n",
        "            \"Uso de medicação para ansiedade: Prescrição e acompanhamento por psiquiatra em CAPS (Gratuito).\",\n",
        "            \"Internação psiquiátrica:  Disponível em casos de crise aguda ou risco de suicídio (Gratuito).\"\n",
        "        ],\n",
        "        \"Idosos\": [\n",
        "            \"Avaliação e acompanhamento prioritário com psiquiatra: Disponível em CAPS (Gratuito), com expertise em saúde mental do idoso.\",\n",
        "            \"TCC individual:  Gratuito em CAPS, com opção de custo social em clínicas particulares para NSE D e E.\",\n",
        "            \"Terapia em grupo: Oferecida em CAPS (Gratuito), com foco em questões relacionadas ao envelhecimento.\",\n",
        "            \"Uso de medicação para ansiedade: Prescrição e acompanhamento por psiquiatra em CAPS (Gratuito), com atenção especial a interações medicamentosas e efeitos colaterais em idosos.\",\n",
        "            \"Internação psiquiátrica:  Disponível em casos de crise aguda ou risco de suicídio (Gratuito), com acompanhamento geriátrico.\"\n",
        "        ]\n",
        "    }\n",
        "}\n",
        "\n",
        "# --- FUNÇÕES DO BAI ---\n",
        "def coletar_dados_demograficos():\n",
        "  \"\"\"Coleta dados demográficos do usuário, garantindo privacidade e respeito.\"\"\"\n",
        "  print(\"Olá! Antes de começarmos o questionário sobre ansiedade, gostaria de coletar algumas informações importantes sobre você.\")\n",
        "  print(\"Essas informações nos ajudarão a compreender melhor os resultados e serão tratadas com total confidencialidade.\")\n",
        "  nome = input(\"Gostaria de nos informar seu primeiro nome? (Opcional): \")\n",
        "  print(\"Você se sente confortável em responder algumas perguntas sobre sua idade, gênero, nível educacional e nível socioeconômico?\")\n",
        "\n",
        "  resposta = input(\"Digite 'sim' para continuar ou 'não' para pular: \").lower()\n",
        "\n",
        "  if resposta != 'sim':\n",
        "    return {}\n",
        "\n",
        "  dados_demograficos = {}\n",
        "  if nome:\n",
        "    dados_demograficos['nome'] = nome\n",
        "\n",
        "  # Idade\n",
        "  while True:\n",
        "    try:\n",
        "      ano_nascimento = int(input(\"Em que ano você nasceu? \"))\n",
        "      if ano_nascimento > 1900 and ano_nascimento < 2024:\n",
        "        dados_demograficos['idade'] = 2023 - ano_nascimento\n",
        "        break\n",
        "      else:\n",
        "        print(\"Por favor, digite um ano válido (ex: 1990).\")\n",
        "    except ValueError:\n",
        "      print(\"Por favor, digite um ano válido (ex: 1990).\")\n",
        "\n",
        "  # Gênero\n",
        "  while True:\n",
        "    print(\"Com qual gênero você se identifica?\")\n",
        "    for genero in Genero:\n",
        "      print(f\"({genero.value}) {genero.name.title()}\")\n",
        "\n",
        "    genero_input = input(\"Digite a letra correspondente à sua opção: \").lower()\n",
        "\n",
        "    if genero_input in [genero.value for genero in Genero]:\n",
        "      dados_demograficos['genero'] = genero_input\n",
        "      break\n",
        "    else:\n",
        "      print(\"Por favor, escolha uma opção válida.\")\n",
        "\n",
        "  # Nível Educacional\n",
        "  while True:\n",
        "    print(\"Qual o seu nível mais alto de escolaridade completo?\")\n",
        "    for nivel in NivelEducacional:\n",
        "      print(f\"({nivel.value}) {nivel.name.title()}\")\n",
        "\n",
        "    nivel_input = input(\"Digite a letra correspondente à sua opção: \").lower()\n",
        "\n",
        "    if nivel_input in [nivel.value for nivel in NivelEducacional]:\n",
        "      dados_demograficos['nivel_educacional'] = nivel_input\n",
        "      break\n",
        "    else:\n",
        "      print(\"Por favor, escolha uma opção válida.\")\n",
        "\n",
        "  # Nível Socioeconômico\n",
        "  while True:\n",
        "    print(\"Em qual faixa você classificaria sua situação financeira familiar?\")\n",
        "    print(\"A: Alta renda.\")\n",
        "    print(\"B: Boa renda.\")\n",
        "    print(\"C: Renda intermediária, classe média.\")\n",
        "    print(\"D: Renda baixa, condições menos favoráveis.\")\n",
        "    print(\"E: Baixa renda, condições precárias.\")\n",
        "    for nivel in NivelSocioeconomico:\n",
        "      print(f\"({nivel.value}) {nivel.name.replace('_', ' ').title()}\") # Ajustado para exibir o nome correto\n",
        "\n",
        "    nivel_input = input(\"Digite a letra correspondente à sua opção: \").lower()\n",
        "\n",
        "    if nivel_input in [nivel.value for nivel in NivelSocioeconomico]:\n",
        "      dados_demograficos['nivel_socioeconomico'] = nivel_input\n",
        "      break\n",
        "    else:\n",
        "      print(\"Por favor, escolha uma opção válida.\")\n",
        "\n",
        "  return dados_demograficos\n",
        "\n",
        "def apresentar_pergunta_bai(sintoma, numero_pergunta, total_perguntas):\n",
        "  \"\"\"Apresenta uma pergunta do BAI com opções de resposta formatadas, barra de progresso e emoji.\"\"\"\n",
        "  os.system('cls' if os.name == 'nt' else 'clear')\n",
        "\n",
        "  print(f\"{Fore.CYAN}--- Pergunta {numero_pergunta}/{total_perguntas} ---{Style.RESET_ALL}\")\n",
        "  print(f\"{Fore.BLUE}🔹 {sintoma}{Style.RESET_ALL}\\n\") # Emoji no início da pergunta\n",
        "\n",
        "  print(\"(0) De modo algum\")\n",
        "  print(\"(1) Levemente, mas não me incomodou\")\n",
        "  print(\"(2) Moderadamente, foi desagradável, mas consegui suportar\")\n",
        "  print(f\"{Fore.YELLOW}(3) Severamente, quase não consegui suportar{Style.RESET_ALL}\")\n",
        "\n",
        "  while True:\n",
        "    try:\n",
        "      resposta = int(input(f\"\\n{Fore.GREEN}Resposta escolhida: {Style.RESET_ALL}\"))\n",
        "      if 0 <= resposta <= 3:\n",
        "        return resposta\n",
        "      else:\n",
        "        print(\"Por favor, escolha uma opção válida (0 a 3).\")\n",
        "    except ValueError:\n",
        "      print(\"Por favor, digite um número válido.\")\n",
        "\n",
        "def calcular_pontuacao_bai(sintomas):\n",
        "  \"\"\"Calcula a pontuação total do BAI com barra de progresso.\"\"\"\n",
        "  pontuacao = 0\n",
        "  for i, sintoma in enumerate(tqdm(sintomas, desc=\"Progresso do Questionário\", bar_format=\"{l_bar}{bar}| {n_fmt}/{total_fmt}\"), start=1):\n",
        "    pontuacao += apresentar_pergunta_bai(sintoma, i, len(sintomas))\n",
        "  return pontuacao\n",
        "\n",
        "def exibir_resultados_bai(pontuacao, dados_demograficos):\n",
        "  \"\"\"Exibe os resultados do BAI, adaptando a linguagem aos dados demográficos.\"\"\"\n",
        "  if dados_demograficos.get('genero') == Genero.FEMININO.value and dados_demograficos.get('idade') < 18:\n",
        "    pronome = \"Você se sente\"\n",
        "  elif dados_demograficos.get('genero') == Genero.MASCULINO.value and dados_demograficos.get('idade') < 18:\n",
        "    pronome = \"Você se sente\"\n",
        "  else:\n",
        "    pronome = \"A senhora se sente\" if dados_demograficos.get('genero') == Genero.FEMININO.value else \"O senhor se sente\"\n",
        "\n",
        "  print(f\"\\nSua pontuação no BAI é: {pontuacao}\")\n",
        "  if pontuacao <= 21:\n",
        "    print(f\"{pronome} com um nível mínimo de ansiedade.\")\n",
        "  elif 22 <= pontuacao <= 35:\n",
        "    print(f\"{pronome} com um nível leve de ansiedade.\")\n",
        "  elif 36 <= pontuacao <= 63:\n",
        "    print(f\"{pronome} com um nível moderado de ansiedade.\")\n",
        "  else:\n",
        "    print(f\"{pronome} com um nível grave de ansiedade.\")\n",
        "\n",
        "  print(\"\\nLembre-se que este questionário não substitui a avaliação de um profissional.\")\n",
        "  print(\"Se você está preocupado com seus níveis de ansiedade, procure ajuda de um psicólogo ou psiquiatra.\")\n",
        "\n",
        "def sugerir_encaminhamentos(pontuacao, dados_demograficos):\n",
        "  \"\"\"Sugere encaminhamentos com base na pontuação do BAI, dados demográficos e nova categoria de idade.\"\"\"\n",
        "  if 'idade' not in dados_demograficos:\n",
        "    print(\"Idade não informada. Não é possível sugerir encaminhamentos.\")\n",
        "    return\n",
        "\n",
        "  faixas_etarias = {\n",
        "    (0, 12): \"Crianças\",\n",
        "    (13, 18): \"Adolescentes\",\n",
        "    (19, 59): \"Adultos\",\n",
        "    (60, 150): \"Idosos\"  # Nova faixa etária para Idosos (60 anos ou mais)\n",
        "  }\n",
        "\n",
        "  faixa_etaria = None\n",
        "  for faixa, descricao in faixas_etarias.items():\n",
        "    if faixa[0] <= dados_demograficos['idade'] <= faixa[1]:\n",
        "      faixa_etaria = descricao\n",
        "      break\n",
        "\n",
        "  encaminhamentos = None\n",
        "  for faixa_pontuacao, encaminhamentos_por_idade in planilha_encaminhamentos.items():\n",
        "    if faixa_pontuacao[0] <= pontuacao <= faixa_pontuacao[1]:\n",
        "      encaminhamentos = encaminhamentos_por_idade.get(faixa_etaria, None)\n",
        "      break\n",
        "\n",
        "  if encaminhamentos:\n",
        "    print(\"\\nCom base em sua pontuação, sugerimos os seguintes encaminhamentos:\")\n",
        "    for i, encaminhamento in enumerate(encaminhamentos):\n",
        "      print(f\"{i+1}. {encaminhamento}\")\n",
        "  else:\n",
        "    print(f\"\\nNão encontramos encaminhamentos específicos para sua faixa etária ({faixa_etaria}) e pontuação ({pontuacao}).\")\n",
        "\n",
        "historico_testes = []  # Lista para armazenar os dados de cada teste\n",
        "\n",
        "def aplicar_bai():\n",
        "  \"\"\"Aplica o questionário BAI completo e salva os dados coletados.\"\"\"\n",
        "  while True:\n",
        "    dados_demograficos = coletar_dados_demograficos()\n",
        "\n",
        "    print(\"\\nAgora, vamos iniciar o questionário sobre ansiedade.\")\n",
        "    print(\"Por favor, leia cada pergunta com atenção e responda como você se sentiu na última semana, incluindo o dia de hoje.\")\n",
        "\n",
        "    sintomas = [\n",
        "        \"Dormência ou formigamento\",\n",
        "        \"Sensação de calor\",\n",
        "        \"Tremores nas pernas\",\n",
        "        \"Incapacidade de relaxar\",\n",
        "        \"Medo de que o pior aconteça\",\n",
        "        \"Tontura ou vertigem\",\n",
        "        \"Taquicardia\",\n",
        "        \"Desconforto no estômago\",\n",
        "        \"Sensação de desmaio\",\n",
        "        \"Tremores nas mãos\",\n",
        "        \"Medo de perder o controle\",\n",
        "        \"Dificuldade para respirar\",\n",
        "        \"Medo de morrer\",\n",
        "        \"Suores\",\n",
        "        \"Rubor facial\",\n",
        "        \"Medo de espaços abertos\",\n",
        "        \"Sensação de engasgo\",\n",
        "        \"Indigestão\",\n",
        "        \"Calafrios ou ondas de calor\",\n",
        "        \"Nervosismo\",\n",
        "        \"Medo de situações em que possa ser julgado\"\n",
        "    ]\n",
        "\n",
        "    pontuacao = calcular_pontuacao_bai(sintomas)\n",
        "    exibir_resultados_bai(pontuacao, dados_demograficos)\n",
        "    sugerir_encaminhamentos(pontuacao, dados_demograficos)\n",
        "\n",
        "    # Salva os dados na lista (CORRIGIDO)\n",
        "    historico_testes.append({\n",
        "        \"dados_demograficos\": dados_demograficos,\n",
        "        \"pontuacao_bai\": pontuacao\n",
        "    })\n",
        "\n",
        "    refazer_teste = input(\"\\nGostaria de refazer o teste? (s/n): \").lower()\n",
        "    if refazer_teste != 's':\n",
        "      break  # Sai do loop se o usuário não quiser refazer o teste\n",
        "\n",
        "# --- EXECUÇÃO DO PROGRAMA ---\n",
        "aplicar_bai()"
      ],
      "metadata": {
        "colab": {
          "base_uri": "https://localhost:8080/"
        },
        "id": "BHM65tIYhkjD",
        "outputId": "f78aed31-78bb-4ded-b9d2-850e15f30260"
      },
      "execution_count": 26,
      "outputs": [
        {
          "output_type": "stream",
          "name": "stdout",
          "text": [
            "Olá! Antes de começarmos o questionário sobre ansiedade, gostaria de coletar algumas informações importantes sobre você.\n",
            "Essas informações nos ajudarão a compreender melhor os resultados e serão tratadas com total confidencialidade.\n",
            "Gostaria de nos informar seu primeiro nome? (Opcional): Denis\n",
            "Você se sente confortável em responder algumas perguntas sobre sua idade, gênero, nível educacional e nível socioeconômico?\n",
            "Digite 'sim' para continuar ou 'não' para pular: sim\n",
            "Em que ano você nasceu? 1975\n",
            "Com qual gênero você se identifica?\n",
            "(a) Masculino\n",
            "(b) Feminino\n",
            "(c) Nao_Binario\n",
            "(d) Outro\n",
            "(e) Prefiro_Nao_Declarar\n",
            "Digite a letra correspondente à sua opção: a\n",
            "Qual o seu nível mais alto de escolaridade completo?\n",
            "(a) Ensino_Fundamental\n",
            "(b) Ensino_Medio\n",
            "(c) Ensino_Superior_Incompleto\n",
            "(d) Ensino_Superior_Completo\n",
            "(e) Pos_Graduacao\n",
            "Digite a letra correspondente à sua opção: e\n",
            "Em qual faixa você classificaria sua situação financeira familiar?\n",
            "A: Alta renda.\n",
            "B: Boa renda.\n",
            "C: Renda intermediária, classe média.\n",
            "D: Renda baixa, condições menos favoráveis.\n",
            "E: Baixa renda, condições precárias.\n",
            "(a) Alta Renda\n",
            "(b) Boa Renda\n",
            "(c) Renda Media\n",
            "(d) Renda Baixa\n",
            "(e) Sem Renda\n",
            "Digite a letra correspondente à sua opção: c\n",
            "\n",
            "Agora, vamos iniciar o questionário sobre ansiedade.\n",
            "Por favor, leia cada pergunta com atenção e responda como você se sentiu na última semana, incluindo o dia de hoje.\n"
          ]
        },
        {
          "output_type": "stream",
          "name": "stderr",
          "text": [
            "\rProgresso do Questionário:   0%|          | 0/21"
          ]
        },
        {
          "name": "stdout",
          "output_type": "stream",
          "text": [
            "\u001b[36m--- Pergunta 1/21 ---\u001b[0m\n",
            "\u001b[34m🔹 Dormência ou formigamento\u001b[0m\n",
            "\n",
            "(0) De modo algum\n",
            "(1) Levemente, mas não me incomodou\n",
            "(2) Moderadamente, foi desagradável, mas consegui suportar\n",
            "\u001b[33m(3) Severamente, quase não consegui suportar\u001b[0m\n",
            "\n",
            "\u001b[32mResposta escolhida: \u001b[0m2\n"
          ]
        },
        {
          "output_type": "stream",
          "name": "stderr",
          "text": [
            "\rProgresso do Questionário:   5%|▍         | 1/21"
          ]
        },
        {
          "name": "stdout",
          "output_type": "stream",
          "text": [
            "\u001b[36m--- Pergunta 2/21 ---\u001b[0m\n",
            "\u001b[34m🔹 Sensação de calor\u001b[0m\n",
            "\n",
            "(0) De modo algum\n",
            "(1) Levemente, mas não me incomodou\n",
            "(2) Moderadamente, foi desagradável, mas consegui suportar\n",
            "\u001b[33m(3) Severamente, quase não consegui suportar\u001b[0m\n",
            "\n",
            "\u001b[32mResposta escolhida: \u001b[0m2\n"
          ]
        },
        {
          "output_type": "stream",
          "name": "stderr",
          "text": [
            "\rProgresso do Questionário:  10%|▉         | 2/21"
          ]
        },
        {
          "name": "stdout",
          "output_type": "stream",
          "text": [
            "\u001b[36m--- Pergunta 3/21 ---\u001b[0m\n",
            "\u001b[34m🔹 Tremores nas pernas\u001b[0m\n",
            "\n",
            "(0) De modo algum\n",
            "(1) Levemente, mas não me incomodou\n",
            "(2) Moderadamente, foi desagradável, mas consegui suportar\n",
            "\u001b[33m(3) Severamente, quase não consegui suportar\u001b[0m\n",
            "\n",
            "\u001b[32mResposta escolhida: \u001b[0m2\n"
          ]
        },
        {
          "output_type": "stream",
          "name": "stderr",
          "text": [
            "\rProgresso do Questionário:  14%|█▍        | 3/21"
          ]
        },
        {
          "name": "stdout",
          "output_type": "stream",
          "text": [
            "\u001b[36m--- Pergunta 4/21 ---\u001b[0m\n",
            "\u001b[34m🔹 Incapacidade de relaxar\u001b[0m\n",
            "\n",
            "(0) De modo algum\n",
            "(1) Levemente, mas não me incomodou\n",
            "(2) Moderadamente, foi desagradável, mas consegui suportar\n",
            "\u001b[33m(3) Severamente, quase não consegui suportar\u001b[0m\n",
            "\n",
            "\u001b[32mResposta escolhida: \u001b[0m2\n"
          ]
        },
        {
          "output_type": "stream",
          "name": "stderr",
          "text": [
            "\rProgresso do Questionário:  19%|█▉        | 4/21"
          ]
        },
        {
          "name": "stdout",
          "output_type": "stream",
          "text": [
            "\u001b[36m--- Pergunta 5/21 ---\u001b[0m\n",
            "\u001b[34m🔹 Medo de que o pior aconteça\u001b[0m\n",
            "\n",
            "(0) De modo algum\n",
            "(1) Levemente, mas não me incomodou\n",
            "(2) Moderadamente, foi desagradável, mas consegui suportar\n",
            "\u001b[33m(3) Severamente, quase não consegui suportar\u001b[0m\n",
            "\n",
            "\u001b[32mResposta escolhida: \u001b[0m2\n"
          ]
        },
        {
          "output_type": "stream",
          "name": "stderr",
          "text": [
            "\rProgresso do Questionário:  24%|██▍       | 5/21"
          ]
        },
        {
          "name": "stdout",
          "output_type": "stream",
          "text": [
            "\u001b[36m--- Pergunta 6/21 ---\u001b[0m\n",
            "\u001b[34m🔹 Tontura ou vertigem\u001b[0m\n",
            "\n",
            "(0) De modo algum\n",
            "(1) Levemente, mas não me incomodou\n",
            "(2) Moderadamente, foi desagradável, mas consegui suportar\n",
            "\u001b[33m(3) Severamente, quase não consegui suportar\u001b[0m\n",
            "\n",
            "\u001b[32mResposta escolhida: \u001b[0m2\n"
          ]
        },
        {
          "output_type": "stream",
          "name": "stderr",
          "text": [
            "\rProgresso do Questionário:  29%|██▊       | 6/21"
          ]
        },
        {
          "name": "stdout",
          "output_type": "stream",
          "text": [
            "\u001b[36m--- Pergunta 7/21 ---\u001b[0m\n",
            "\u001b[34m🔹 Taquicardia\u001b[0m\n",
            "\n",
            "(0) De modo algum\n",
            "(1) Levemente, mas não me incomodou\n",
            "(2) Moderadamente, foi desagradável, mas consegui suportar\n",
            "\u001b[33m(3) Severamente, quase não consegui suportar\u001b[0m\n",
            "\n",
            "\u001b[32mResposta escolhida: \u001b[0m2\n"
          ]
        },
        {
          "output_type": "stream",
          "name": "stderr",
          "text": [
            "\rProgresso do Questionário:  33%|███▎      | 7/21"
          ]
        },
        {
          "name": "stdout",
          "output_type": "stream",
          "text": [
            "\u001b[36m--- Pergunta 8/21 ---\u001b[0m\n",
            "\u001b[34m🔹 Desconforto no estômago\u001b[0m\n",
            "\n",
            "(0) De modo algum\n",
            "(1) Levemente, mas não me incomodou\n",
            "(2) Moderadamente, foi desagradável, mas consegui suportar\n",
            "\u001b[33m(3) Severamente, quase não consegui suportar\u001b[0m\n",
            "\n",
            "\u001b[32mResposta escolhida: \u001b[0m2\n"
          ]
        },
        {
          "output_type": "stream",
          "name": "stderr",
          "text": [
            "\rProgresso do Questionário:  38%|███▊      | 8/21"
          ]
        },
        {
          "name": "stdout",
          "output_type": "stream",
          "text": [
            "\u001b[36m--- Pergunta 9/21 ---\u001b[0m\n",
            "\u001b[34m🔹 Sensação de desmaio\u001b[0m\n",
            "\n",
            "(0) De modo algum\n",
            "(1) Levemente, mas não me incomodou\n",
            "(2) Moderadamente, foi desagradável, mas consegui suportar\n",
            "\u001b[33m(3) Severamente, quase não consegui suportar\u001b[0m\n",
            "\n",
            "\u001b[32mResposta escolhida: \u001b[0m2\n"
          ]
        },
        {
          "output_type": "stream",
          "name": "stderr",
          "text": [
            "\rProgresso do Questionário:  43%|████▎     | 9/21"
          ]
        },
        {
          "name": "stdout",
          "output_type": "stream",
          "text": [
            "\u001b[36m--- Pergunta 10/21 ---\u001b[0m\n",
            "\u001b[34m🔹 Tremores nas mãos\u001b[0m\n",
            "\n",
            "(0) De modo algum\n",
            "(1) Levemente, mas não me incomodou\n",
            "(2) Moderadamente, foi desagradável, mas consegui suportar\n",
            "\u001b[33m(3) Severamente, quase não consegui suportar\u001b[0m\n",
            "\n",
            "\u001b[32mResposta escolhida: \u001b[0m2\n"
          ]
        },
        {
          "output_type": "stream",
          "name": "stderr",
          "text": [
            "\rProgresso do Questionário:  48%|████▊     | 10/21"
          ]
        },
        {
          "name": "stdout",
          "output_type": "stream",
          "text": [
            "\u001b[36m--- Pergunta 11/21 ---\u001b[0m\n",
            "\u001b[34m🔹 Medo de perder o controle\u001b[0m\n",
            "\n",
            "(0) De modo algum\n",
            "(1) Levemente, mas não me incomodou\n",
            "(2) Moderadamente, foi desagradável, mas consegui suportar\n",
            "\u001b[33m(3) Severamente, quase não consegui suportar\u001b[0m\n",
            "\n",
            "\u001b[32mResposta escolhida: \u001b[0m2\n"
          ]
        },
        {
          "output_type": "stream",
          "name": "stderr",
          "text": [
            "\rProgresso do Questionário:  52%|█████▏    | 11/21"
          ]
        },
        {
          "name": "stdout",
          "output_type": "stream",
          "text": [
            "\u001b[36m--- Pergunta 12/21 ---\u001b[0m\n",
            "\u001b[34m🔹 Dificuldade para respirar\u001b[0m\n",
            "\n",
            "(0) De modo algum\n",
            "(1) Levemente, mas não me incomodou\n",
            "(2) Moderadamente, foi desagradável, mas consegui suportar\n",
            "\u001b[33m(3) Severamente, quase não consegui suportar\u001b[0m\n",
            "\n",
            "\u001b[32mResposta escolhida: \u001b[0m2\n"
          ]
        },
        {
          "output_type": "stream",
          "name": "stderr",
          "text": [
            "\rProgresso do Questionário:  57%|█████▋    | 12/21"
          ]
        },
        {
          "name": "stdout",
          "output_type": "stream",
          "text": [
            "\u001b[36m--- Pergunta 13/21 ---\u001b[0m\n",
            "\u001b[34m🔹 Medo de morrer\u001b[0m\n",
            "\n",
            "(0) De modo algum\n",
            "(1) Levemente, mas não me incomodou\n",
            "(2) Moderadamente, foi desagradável, mas consegui suportar\n",
            "\u001b[33m(3) Severamente, quase não consegui suportar\u001b[0m\n",
            "\n",
            "\u001b[32mResposta escolhida: \u001b[0m2\n"
          ]
        },
        {
          "output_type": "stream",
          "name": "stderr",
          "text": [
            "\rProgresso do Questionário:  62%|██████▏   | 13/21"
          ]
        },
        {
          "name": "stdout",
          "output_type": "stream",
          "text": [
            "\u001b[36m--- Pergunta 14/21 ---\u001b[0m\n",
            "\u001b[34m🔹 Suores\u001b[0m\n",
            "\n",
            "(0) De modo algum\n",
            "(1) Levemente, mas não me incomodou\n",
            "(2) Moderadamente, foi desagradável, mas consegui suportar\n",
            "\u001b[33m(3) Severamente, quase não consegui suportar\u001b[0m\n",
            "\n",
            "\u001b[32mResposta escolhida: \u001b[0m2\n"
          ]
        },
        {
          "output_type": "stream",
          "name": "stderr",
          "text": [
            "\rProgresso do Questionário:  67%|██████▋   | 14/21"
          ]
        },
        {
          "name": "stdout",
          "output_type": "stream",
          "text": [
            "\u001b[36m--- Pergunta 15/21 ---\u001b[0m\n",
            "\u001b[34m🔹 Rubor facial\u001b[0m\n",
            "\n",
            "(0) De modo algum\n",
            "(1) Levemente, mas não me incomodou\n",
            "(2) Moderadamente, foi desagradável, mas consegui suportar\n",
            "\u001b[33m(3) Severamente, quase não consegui suportar\u001b[0m\n",
            "\n",
            "\u001b[32mResposta escolhida: \u001b[0m2\n"
          ]
        },
        {
          "output_type": "stream",
          "name": "stderr",
          "text": [
            "\rProgresso do Questionário:  71%|███████▏  | 15/21"
          ]
        },
        {
          "name": "stdout",
          "output_type": "stream",
          "text": [
            "\u001b[36m--- Pergunta 16/21 ---\u001b[0m\n",
            "\u001b[34m🔹 Medo de espaços abertos\u001b[0m\n",
            "\n",
            "(0) De modo algum\n",
            "(1) Levemente, mas não me incomodou\n",
            "(2) Moderadamente, foi desagradável, mas consegui suportar\n",
            "\u001b[33m(3) Severamente, quase não consegui suportar\u001b[0m\n",
            "\n",
            "\u001b[32mResposta escolhida: \u001b[0m2\n"
          ]
        },
        {
          "output_type": "stream",
          "name": "stderr",
          "text": [
            "\rProgresso do Questionário:  76%|███████▌  | 16/21"
          ]
        },
        {
          "name": "stdout",
          "output_type": "stream",
          "text": [
            "\u001b[36m--- Pergunta 17/21 ---\u001b[0m\n",
            "\u001b[34m🔹 Sensação de engasgo\u001b[0m\n",
            "\n",
            "(0) De modo algum\n",
            "(1) Levemente, mas não me incomodou\n",
            "(2) Moderadamente, foi desagradável, mas consegui suportar\n",
            "\u001b[33m(3) Severamente, quase não consegui suportar\u001b[0m\n",
            "\n",
            "\u001b[32mResposta escolhida: \u001b[0m2\n"
          ]
        },
        {
          "output_type": "stream",
          "name": "stderr",
          "text": [
            "\rProgresso do Questionário:  81%|████████  | 17/21"
          ]
        },
        {
          "name": "stdout",
          "output_type": "stream",
          "text": [
            "\u001b[36m--- Pergunta 18/21 ---\u001b[0m\n",
            "\u001b[34m🔹 Indigestão\u001b[0m\n",
            "\n",
            "(0) De modo algum\n",
            "(1) Levemente, mas não me incomodou\n",
            "(2) Moderadamente, foi desagradável, mas consegui suportar\n",
            "\u001b[33m(3) Severamente, quase não consegui suportar\u001b[0m\n",
            "\n",
            "\u001b[32mResposta escolhida: \u001b[0m2\n"
          ]
        },
        {
          "output_type": "stream",
          "name": "stderr",
          "text": [
            "\rProgresso do Questionário:  86%|████████▌ | 18/21"
          ]
        },
        {
          "name": "stdout",
          "output_type": "stream",
          "text": [
            "\u001b[36m--- Pergunta 19/21 ---\u001b[0m\n",
            "\u001b[34m🔹 Calafrios ou ondas de calor\u001b[0m\n",
            "\n",
            "(0) De modo algum\n",
            "(1) Levemente, mas não me incomodou\n",
            "(2) Moderadamente, foi desagradável, mas consegui suportar\n",
            "\u001b[33m(3) Severamente, quase não consegui suportar\u001b[0m\n",
            "\n",
            "\u001b[32mResposta escolhida: \u001b[0m2\n"
          ]
        },
        {
          "output_type": "stream",
          "name": "stderr",
          "text": [
            "\rProgresso do Questionário:  90%|█████████ | 19/21"
          ]
        },
        {
          "name": "stdout",
          "output_type": "stream",
          "text": [
            "\u001b[36m--- Pergunta 20/21 ---\u001b[0m\n",
            "\u001b[34m🔹 Nervosismo\u001b[0m\n",
            "\n",
            "(0) De modo algum\n",
            "(1) Levemente, mas não me incomodou\n",
            "(2) Moderadamente, foi desagradável, mas consegui suportar\n",
            "\u001b[33m(3) Severamente, quase não consegui suportar\u001b[0m\n",
            "\n",
            "\u001b[32mResposta escolhida: \u001b[0m2\n"
          ]
        },
        {
          "output_type": "stream",
          "name": "stderr",
          "text": [
            "\rProgresso do Questionário:  95%|█████████▌| 20/21"
          ]
        },
        {
          "name": "stdout",
          "output_type": "stream",
          "text": [
            "\u001b[36m--- Pergunta 21/21 ---\u001b[0m\n",
            "\u001b[34m🔹 Medo de situações em que possa ser julgado\u001b[0m\n",
            "\n",
            "(0) De modo algum\n",
            "(1) Levemente, mas não me incomodou\n",
            "(2) Moderadamente, foi desagradável, mas consegui suportar\n",
            "\u001b[33m(3) Severamente, quase não consegui suportar\u001b[0m\n",
            "\n",
            "\u001b[32mResposta escolhida: \u001b[0m2\n"
          ]
        },
        {
          "output_type": "stream",
          "name": "stderr",
          "text": [
            "Progresso do Questionário: 100%|██████████| 21/21\n"
          ]
        },
        {
          "name": "stdout",
          "output_type": "stream",
          "text": [
            "\n",
            "Sua pontuação no BAI é: 42\n",
            "O senhor se sente com um nível moderado de ansiedade.\n",
            "\n",
            "Lembre-se que este questionário não substitui a avaliação de um profissional.\n",
            "Se você está preocupado com seus níveis de ansiedade, procure ajuda de um psicólogo ou psiquiatra.\n",
            "\n",
            "Com base em sua pontuação, sugerimos os seguintes encaminhamentos:\n",
            "1. Avaliação detalhada com psicólogo ou psiquiatra: Disponível em UBS e CAPS (Gratuito).\n",
            "2. TCC individual: Gratuito em UBS e CAPS, com opção de custo social em clínicas particulares para NSE D e E.\n",
            "3. Uso de medicação para ansiedade:  Prescrição e acompanhamento por psiquiatra em UBS e CAPS (Gratuito).\n",
            "\n",
            "Gostaria de refazer o teste? (s/n): n\n"
          ]
        }
      ]
    },
    {
      "cell_type": "markdown",
      "source": [
        "## Triagem e direcionamento **técnico** (Sucinto e ideal para profissionais da saúde)"
      ],
      "metadata": {
        "id": "PFB255nQx70q"
      }
    },
    {
      "cell_type": "markdown",
      "source": [
        "## Direcionamento **individualizado** (Mais detalhado, contendo orientações específicas para o cidadão segundo os dados demográficos fornecidos e seu perfil das respostas dadas ao questinário BAI)"
      ],
      "metadata": {
        "id": "2wSdlYobyL14"
      }
    },
    {
      "cell_type": "code",
      "source": [
        "!pip install -q -U google-generativeai"
      ],
      "metadata": {
        "id": "EO1Gyz5KyQc5"
      },
      "execution_count": 27,
      "outputs": []
    },
    {
      "cell_type": "code",
      "source": [
        "# Import the Python SDK\n",
        "import google.generativeai as genai\n",
        "from google.colab import userdata\n",
        "api_key = userdata.get('SECRET_KEY')\n",
        "\n",
        "genai.configure(api_key=api_key)\n"
      ],
      "metadata": {
        "id": "K3lufpyNzZiW"
      },
      "execution_count": 28,
      "outputs": []
    },
    {
      "cell_type": "code",
      "source": [
        "gen_config = {\n",
        "    \"candidate_count\": 1,\n",
        "    \"temperature\": 0.5,\n",
        "  # \"top_p\"\n",
        "  # \"top_k\"\n",
        "}\n",
        "#vale a pena verificar se podemos usar uma temperatura maior sem risco de bizarrices"
      ],
      "metadata": {
        "id": "tnfvHrlHzfgG"
      },
      "execution_count": 29,
      "outputs": []
    },
    {
      "cell_type": "code",
      "source": [
        "safe_set = {\n",
        "    \"HARASSMENT\": \"BLOCK_NONE\",\n",
        "    \"HATE\": \"BLOCK_NONE\",\n",
        "    \"SEXUAL\": \"BLOCK_NONE\",\n",
        "    \"DANGEROUS\": \"BLOCK_NONE\",\n",
        "}\n",
        "#testar o código com BLOCK_FEW em SEXUAL e DANGEROUS;"
      ],
      "metadata": {
        "id": "0zMw7buXz_Xz"
      },
      "execution_count": 30,
      "outputs": []
    },
    {
      "cell_type": "code",
      "source": [
        "model = genai.GenerativeModel(model_name=\"gemini-1.0-pro\",\n",
        "                              generation_config=gen_config,\n",
        "                              safety_settings= safe_set)"
      ],
      "metadata": {
        "id": "JHaiC02E0a-W"
      },
      "execution_count": 31,
      "outputs": []
    },
    {
      "cell_type": "code",
      "source": [
        "nome_usuario = historico_testes[0]['dados_demograficos']['nome']\n",
        "pontuacao_usuario = historico_testes[0]['pontuacao_bai']\n",
        "print(f\"Nome: {nome_usuario}, Pontuação BAI: {pontuacao_usuario}\")\n",
        "\n",
        "response = model.generate_content(\n",
        "    f\"Considerando os parâmetros obtidos acima crie um direcionamento individualizado incluindo {nome_usuario} (caso tenha sido fornecido) que considere os pronomes de tratamento adequado assim como a idade do usuário. Use um tom bastante profissional e ao mesmo tempo acolhedor sempre se baseando na escala de BAI {pontuacao_usuario}. Insira alguns poucos emojis, negritos e itálicos para que a mensagem fique ainda mais amigável. Coloque também as orientações correspondentes baseadas na planilha de direcionamento. Informe o significado dos acrônimos usados. Ex. SUS. \"\n",
        ")\n",
        "print(response.text)"
      ],
      "metadata": {
        "colab": {
          "base_uri": "https://localhost:8080/",
          "height": 419
        },
        "id": "eMMSMric042f",
        "outputId": "3cdc0f60-84c1-4789-ebec-d0a1e19d0c3d"
      },
      "execution_count": 33,
      "outputs": [
        {
          "output_type": "stream",
          "name": "stdout",
          "text": [
            "Nome: Denis, Pontuação BAI: 42\n",
            "**Olá, Denis!** 😊\n",
            "\n",
            "Entendo que você esteja passando por um momento difícil e que esteja se sentindo ansioso. Sua pontuação na Escala de Ansiedade de Beck (BAI) de **42** indica **ansiedade grave**.\n",
            "\n",
            "**Recomendações:**\n",
            "\n",
            "* **Procure ajuda profissional:** Um psicólogo ou psiquiatra pode ajudá-lo a identificar as causas de sua ansiedade e desenvolver estratégias de enfrentamento.\n",
            "* **Cuide da sua saúde física:** Durma o suficiente, alimente-se de forma saudável e faça exercícios regularmente. Essas atividades podem reduzir o estresse e a ansiedade.\n",
            "* **Pratique técnicas de relaxamento:** A meditação, a respiração profunda e o ioga podem ajudar a acalmar sua mente e seu corpo.\n",
            "* **Conecte-se com outras pessoas:** Falar sobre seus sentimentos com amigos, familiares ou um grupo de apoio pode fornecer apoio e compreensão.\n",
            "* **Considere medicamentos:** Em alguns casos, os medicamentos podem ser úteis para controlar a ansiedade. Converse com seu médico sobre essa opção.\n",
            "\n",
            "**Recursos:**\n",
            "\n",
            "* **SUS (Sistema Único de Saúde):** Oferece serviços de saúde mental gratuitos ou de baixo custo.\n",
            "* **CVV (Centro de Valorização da Vida):** Linha direta gratuita para apoio emocional: 188\n",
            "* **CAPS (Centro de Atenção Psicossocial):** Unidades de saúde mental que oferecem atendimento gratuito.\n",
            "\n",
            "**Lembre-se:** Você não está sozinho e há ajuda disponível. Não hesite em procurar apoio se precisar.\n",
            "\n",
            "**Estamos aqui para você!** 💪\n"
          ]
        }
      ]
    }
  ]
}